{
 "cells": [
  {
   "cell_type": "markdown",
   "id": "1f1534b9",
   "metadata": {},
   "source": [
    "# Numpy review homework"
   ]
  },
  {
   "cell_type": "markdown",
   "id": "4db19bcf",
   "metadata": {},
   "source": [
    "1. Make a numpy matrix from a Python list of lists..."
   ]
  },
  {
   "cell_type": "code",
   "execution_count": 19,
   "id": "d0506b51",
   "metadata": {},
   "outputs": [
    {
     "name": "stdout",
     "output_type": "stream",
     "text": [
      "[[1 2 3]\n",
      " [4 5 6]\n",
      " [7 8 9]]\n"
     ]
    }
   ],
   "source": [
    "import numpy as np\n",
    "\n",
    "\n",
    "list = [[1, 2, 3], [4, 5, 6], [7, 8, 9]]\n",
    "\n",
    "numpy_matrix = np.array(list)\n",
    "\n",
    "print(numpy_matrix)"
   ]
  },
  {
   "cell_type": "markdown",
   "id": "dd6e8ffb",
   "metadata": {},
   "source": [
    "2. Make a 3D numpy matrix from a Python list of lists of lists!"
   ]
  },
  {
   "cell_type": "code",
   "execution_count": 21,
   "id": "c977766b",
   "metadata": {},
   "outputs": [
    {
     "name": "stdout",
     "output_type": "stream",
     "text": [
      "[[1 2 3]\n",
      " [4 5 6]\n",
      " [7 8 9]]\n"
     ]
    }
   ],
   "source": [
    "list = [[1, 2, 3], [4, 5, 6], [7, 8, 9]]\n",
    "\n",
    "numpy_3d = np.array(list)\n",
    "\n",
    "print(numpy_3d)\n"
   ]
  },
  {
   "cell_type": "markdown",
   "id": "8ad64691",
   "metadata": {},
   "source": [
    "3. Create a 5x3 array of Gaussian random numbers. "
   ]
  },
  {
   "cell_type": "code",
   "execution_count": 22,
   "id": "5f280edc",
   "metadata": {},
   "outputs": [
    {
     "name": "stdout",
     "output_type": "stream",
     "text": [
      "[[ 1.5612008  -0.65143795  1.58410496]\n",
      " [-0.69115846  0.40161108 -1.83107227]\n",
      " [-0.06449324 -0.42812345  1.12469053]\n",
      " [-0.57666072 -0.49554381 -0.43760368]\n",
      " [ 0.94117626 -1.61167485  0.68716667]]\n"
     ]
    }
   ],
   "source": [
    "gaussian_array = np.random.normal(size=(5, 3))\n",
    "\n",
    "print(gaussian_array)"
   ]
  },
  {
   "cell_type": "code",
   "execution_count": 23,
   "id": "670650e3",
   "metadata": {},
   "outputs": [
    {
     "name": "stdout",
     "output_type": "stream",
     "text": [
      "[[ 0.01082445  0.29116149  0.60361211]\n",
      " [ 0.56395583 -0.81744243 -1.50371878]\n",
      " [-0.2953389   1.3792017  -0.2452773 ]\n",
      " [ 0.81046312 -0.59841199 -0.69734487]\n",
      " [ 0.92496018 -1.79594609  0.042228  ]]\n"
     ]
    }
   ],
   "source": [
    "gaussian_array = np.random.normal(size=(5, 3))\n",
    "print(gaussian_array)"
   ]
  },
  {
   "cell_type": "markdown",
   "id": "e7230f0f",
   "metadata": {},
   "source": [
    "wow"
   ]
  },
  {
   "cell_type": "markdown",
   "id": "d129639e",
   "metadata": {},
   "source": [
    "4. Write a script to go through the array created in 3. and announce (print) the value and its row and column indexes.\n",
    "\n",
    "Hint: Use nested `for` loops - one to loop through the rows and one to loop through the columns."
   ]
  },
  {
   "cell_type": "markdown",
   "id": "2f6c8094",
   "metadata": {},
   "source": [
    "5. Make an new array out of your random numbers such that the mean is 10 and the standard deviation is 3."
   ]
  },
  {
   "cell_type": "code",
   "execution_count": 44,
   "id": "b8cfc374",
   "metadata": {},
   "outputs": [
    {
     "name": "stdout",
     "output_type": "stream",
     "text": [
      "[[10.10031292  7.51872719 10.27379266]\n",
      " [14.57369252 13.86794094  9.53700763]\n",
      " [ 5.64339424 10.80712557  7.54501487]\n",
      " [13.43547683 14.59542591 10.8512469 ]\n",
      " [12.86722756  7.46627181  6.58234277]]\n"
     ]
    }
   ],
   "source": [
    "gaussian_array = np.random.normal(loc=10, scale=3, size=(5, 3))\n",
    "\n",
    "print(gaussian_array)"
   ]
  },
  {
   "cell_type": "markdown",
   "id": "431e4556",
   "metadata": {},
   "source": [
    "6. Count the number of values in your new array that are below 7."
   ]
  },
  {
   "cell_type": "code",
   "execution_count": 42,
   "id": "80cb12c5",
   "metadata": {},
   "outputs": [
    {
     "name": "stdout",
     "output_type": "stream",
     "text": [
      "# of values below 7: 5\n"
     ]
    }
   ],
   "source": [
    "count_below_7 = np.sum(gaussian_array < 7)\n",
    "print(\"# of values below 7:\", count_below_7)"
   ]
  },
  {
   "cell_type": "markdown",
   "id": "f7191a90",
   "metadata": {},
   "source": [
    "7. Make a numpy sequence that has the even numbers from 2 up to (and including) 20."
   ]
  },
  {
   "cell_type": "code",
   "execution_count": 50,
   "id": "23277d0c",
   "metadata": {},
   "outputs": [
    {
     "name": "stdout",
     "output_type": "stream",
     "text": [
      "[ 2  4  6  8 10 12 14 16 18 20]\n"
     ]
    }
   ],
   "source": [
    "even_numbers = np.arange(2, 21, 2)\n",
    "print(even_numbers)"
   ]
  },
  {
   "cell_type": "code",
   "execution_count": 51,
   "id": "c71c80f7",
   "metadata": {},
   "outputs": [
    {
     "name": "stdout",
     "output_type": "stream",
     "text": [
      "[ 2  4  6  8 10 12 14 16 18]\n"
     ]
    }
   ],
   "source": [
    "even_numbers = np.arange(2, 20, 2)\n",
    "print(even_numbers)"
   ]
  },
  {
   "cell_type": "markdown",
   "id": "40bd499e",
   "metadata": {},
   "source": [
    "8. Get the second and third rows of your array created in #5."
   ]
  },
  {
   "cell_type": "code",
   "execution_count": 56,
   "id": "1abb0c7b",
   "metadata": {},
   "outputs": [
    {
     "name": "stdout",
     "output_type": "stream",
     "text": [
      "[[14.57369252 13.86794094  9.53700763]\n",
      " [ 5.64339424 10.80712557  7.54501487]]\n"
     ]
    }
   ],
   "source": [
    "second_and_third_rows = gaussian_array[1:3]\n",
    "\n",
    "print(second_and_third_rows)"
   ]
  },
  {
   "cell_type": "markdown",
   "id": "1c3779c3",
   "metadata": {},
   "source": [
    "9. Compute the mean of the columns of your array created in #5."
   ]
  },
  {
   "cell_type": "code",
   "execution_count": 54,
   "id": "4e166283",
   "metadata": {},
   "outputs": [
    {
     "name": "stdout",
     "output_type": "stream",
     "text": [
      "[11.32402081 10.85109828  8.95788097]\n"
     ]
    }
   ],
   "source": [
    "column_means = np.mean(gaussian_array, axis=0)\n",
    "print(column_means)"
   ]
  }
 ],
 "metadata": {
  "kernelspec": {
   "display_name": "Python 3 (ipykernel)",
   "language": "python",
   "name": "python3"
  },
  "language_info": {
   "codemirror_mode": {
    "name": "ipython",
    "version": 3
   },
   "file_extension": ".py",
   "mimetype": "text/x-python",
   "name": "python",
   "nbconvert_exporter": "python",
   "pygments_lexer": "ipython3",
   "version": "3.11.5"
  }
 },
 "nbformat": 4,
 "nbformat_minor": 5
}

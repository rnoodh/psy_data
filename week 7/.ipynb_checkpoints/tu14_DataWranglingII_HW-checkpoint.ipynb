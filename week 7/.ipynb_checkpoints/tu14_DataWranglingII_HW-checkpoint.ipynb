{
 "cells": [
  {
   "cell_type": "markdown",
   "id": "a8e66ad5-efe8-4095-89b9-4a3c44a915b1",
   "metadata": {},
   "source": [
    "# Data Wrangling Homework"
   ]
  },
  {
   "cell_type": "markdown",
   "id": "a68b6cdf-cc08-451c-b93b-6f3aeea27dc3",
   "metadata": {},
   "source": [
    "In the spirit of warming up for final projects, this weeks homework will be somewhat open-ended. Actually, it will more like closed-ended and open-middled...\n",
    "\n",
    "Different doctors with different backgrounds, trained in different places, etc., might behave differently. In other words, one doctor might have various biases relative to another. We hope not, at least in critical situations, but doctors are people too.\n",
    "\n",
    "Your job is to determine whether the 4 doctors in our data set are behaving essentially the same with respect to measuring clump thickness, bland chromatin, and diagnosis of tumor type, or whether any one of them seems to be different. "
   ]
  },
  {
   "cell_type": "markdown",
   "id": "090694da-100c-419a-8c00-3e0fbb5767fd",
   "metadata": {
    "tags": []
   },
   "source": [
    "The submission should be a pdf that makes your case as though to a boss/hospital administrator; it should make the case in enough detail to be convincing, but not in such detail that your boss will hate you. For example, one doctor-to-doctor comparison can be described in some detail, but the rest can be summarized with \"Similar comparisons were made for ...\""
   ]
  },
  {
   "cell_type": "markdown",
   "id": "011d2f30-1731-4503-855f-46218d71ae33",
   "metadata": {},
   "source": [
    "Your final conclusion should be whether 1) everything seems okay with respect to the doctors or 2) if there are any red flags that might warrent further scrutiny."
   ]
  },
  {
   "cell_type": "markdown",
   "id": "3e575de6-2ef9-48c1-b8eb-fec7755c5e3d",
   "metadata": {},
   "source": [
    "Do the analysis with an open mind. It's not good to enter an analysis with a pre-conceived notion of what you may or may not find."
   ]
  },
  {
   "cell_type": "code",
   "execution_count": 36,
   "id": "3342c84e",
   "metadata": {},
   "outputs": [],
   "source": [
    "import numpy as np\n",
    "import pandas as pd\n",
    "data = pd.read_csv(\"./breast_cancer_data.csv\")"
   ]
  },
  {
   "cell_type": "code",
   "execution_count": 37,
   "id": "93819ac4",
   "metadata": {},
   "outputs": [
    {
     "name": "stdout",
     "output_type": "stream",
     "text": [
      "             clump_thickness  bland_chromatin   class\n",
      "doctor_name                                          \n",
      "Dr. Doe             4.189189         3.076503  benign\n",
      "Dr. Lee             4.182320         3.435754  benign\n",
      "Dr. Smith           4.874286         3.863636  benign\n",
      "Dr. Wong            4.445860         3.426752  benign\n"
     ]
    }
   ],
   "source": [
    "doctor_stats = data.groupby('doctor_name').agg({'clump_thickness': 'mean',\n",
    "                                           'bland_chromatin': 'mean',\n",
    "                                            'class': lambda x: x.value_counts().index[0],\n",
    "                                            })\n",
    "print(doctor_stats)"
   ]
  },
  {
   "cell_type": "code",
   "execution_count": 39,
   "id": "63851e99",
   "metadata": {},
   "outputs": [
    {
     "name": "stdout",
     "output_type": "stream",
     "text": [
      "             clump_thickness  bland_chromatin      class\n",
      "doctor_name                                             \n",
      "Dr. Doe             4.189189         3.076503  malignant\n",
      "Dr. Lee             4.182320         3.435754  malignant\n",
      "Dr. Smith           4.874286         3.863636  malignant\n",
      "Dr. Wong            4.445860         3.426752  malignant\n"
     ]
    }
   ],
   "source": [
    "doctor_stats = data.groupby('doctor_name').agg({'clump_thickness': 'mean',\n",
    "                                           'bland_chromatin': 'mean',\n",
    "                                            'class': lambda x: x.value_counts().index[1]\n",
    "                                            })\n",
    "print(doctor_stats)"
   ]
  },
  {
   "cell_type": "code",
   "execution_count": 40,
   "id": "dea379f4",
   "metadata": {},
   "outputs": [
    {
     "name": "stdout",
     "output_type": "stream",
     "text": [
      "            clump_thickness bland_chromatin  class          \n",
      "                       mean            mean Benign Malignant\n",
      "doctor_name                                                 \n",
      "Dr. Doe            4.189189        3.076503      0         0\n",
      "Dr. Lee            4.182320        3.435754      0         0\n",
      "Dr. Smith          4.874286        3.863636      0         0\n",
      "Dr. Wong           4.445860        3.426752      0         0\n"
     ]
    }
   ],
   "source": [
    "doctor_stats = data.groupby('doctor_name').agg({'clump_thickness': 'mean',\n",
    "                                                'bland_chromatin': 'mean',\n",
    "                                                'class': [('Benign', lambda x: (x == 'Benign').sum()),\n",
    "                                                          ('Malignant', lambda x: (x == 'Malignant').sum())]})\n",
    "\n",
    "print(doctor_stats)"
   ]
  },
  {
   "cell_type": "code",
   "execution_count": 21,
   "id": "66384abe",
   "metadata": {},
   "outputs": [
    {
     "name": "stdout",
     "output_type": "stream",
     "text": [
      "  doctor_name clump_thickness bland_chromatin  class          \n",
      "                         mean            mean Benign Malignant\n",
      "0     Dr. Doe        4.189189        3.076503      0         0\n",
      "1     Dr. Lee        4.182320        3.435754      0         0\n",
      "2   Dr. Smith        4.874286        3.863636      0         0\n",
      "3    Dr. Wong        4.445860        3.426752      0         0\n"
     ]
    }
   ],
   "source": [
    "doctor_stats = doctor_stats.reset_index()\n",
    "print(doctor_stats)"
   ]
  }
 ],
 "metadata": {
  "kernelspec": {
   "display_name": "Python 3 (ipykernel)",
   "language": "python",
   "name": "python3"
  },
  "language_info": {
   "codemirror_mode": {
    "name": "ipython",
    "version": 3
   },
   "file_extension": ".py",
   "mimetype": "text/x-python",
   "name": "python",
   "nbconvert_exporter": "python",
   "pygments_lexer": "ipython3",
   "version": "3.11.5"
  }
 },
 "nbformat": 4,
 "nbformat_minor": 5
}

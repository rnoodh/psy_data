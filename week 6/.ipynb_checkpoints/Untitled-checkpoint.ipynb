{
 "cells": [
  {
   "cell_type": "code",
   "execution_count": null,
   "id": "60687e84",
   "metadata": {},
   "outputs": [],
   "source": [
    "import seaborn as sns\n",
    "penguins = sns.load_dataset(\"penguins\")"
   ]
  },
  {
   "cell_type": "code",
   "execution_count": null,
   "id": "30fe3dd1",
   "metadata": {},
   "outputs": [],
   "source": [
    "import seaborn as sns\n",
    "import matplotlib.pyplot as plt\n",
    "\n",
    "def plot_penguins(data):\n",
    "    \"\"\"\n",
    "    Plot penguins data.\n",
    "\n",
    "    Parameters:\n",
    "    - data (DataFrame): The penguins data.\n",
    "\n",
    "    Returns:\n",
    "    - None\n",
    "    \"\"\"\n",
    "    plot_type = input(\"Enter the type of plot ('strip', 'violin', or 'box'): \")\n",
    "    \n",
    "    if plot_type == 'strip':\n",
    "        sns.stripplot(data=data)\n",
    "    elif plot_type == 'violin':\n",
    "        sns.violinplot(data=data)\n",
    "    elif plot_type == 'box':\n",
    "        sns.boxplot(data=data)\n",
    "    else:\n",
    "        print(\"Invalid plot type. Please choose 'strip', 'violin', or 'box'.\")\n",
    "        return\n",
    "\n",
    "    plt.show()"
   ]
  },
  {
   "cell_type": "markdown",
   "id": "ca2e4209",
   "metadata": {},
   "source": [
    "help function"
   ]
  },
  {
   "cell_type": "code",
   "execution_count": null,
   "id": "eff8764c",
   "metadata": {},
   "outputs": [],
   "source": [
    "# Get help on the function\n",
    "help(plot_penguins)"
   ]
  },
  {
   "cell_type": "markdown",
   "id": "2c93f3b6",
   "metadata": {},
   "source": [
    "run function"
   ]
  },
  {
   "cell_type": "code",
   "execution_count": null,
   "id": "0cae44aa",
   "metadata": {},
   "outputs": [],
   "source": [
    "# Run the function\n",
    "plot_penguins(data=penguins)"
   ]
  },
  {
   "cell_type": "code",
   "execution_count": null,
   "id": "e808e36b",
   "metadata": {},
   "outputs": [],
   "source": []
  },
  {
   "cell_type": "code",
   "execution_count": null,
   "id": "48b7ec15",
   "metadata": {},
   "outputs": [],
   "source": []
  },
  {
   "cell_type": "code",
   "execution_count": null,
   "id": "8599c950",
   "metadata": {},
   "outputs": [],
   "source": []
  }
 ],
 "metadata": {
  "kernelspec": {
   "display_name": "Python 3 (ipykernel)",
   "language": "python",
   "name": "python3"
  },
  "language_info": {
   "codemirror_mode": {
    "name": "ipython",
    "version": 3
   },
   "file_extension": ".py",
   "mimetype": "text/x-python",
   "name": "python",
   "nbconvert_exporter": "python",
   "pygments_lexer": "ipython3",
   "version": "3.11.5"
  }
 },
 "nbformat": 4,
 "nbformat_minor": 5
}

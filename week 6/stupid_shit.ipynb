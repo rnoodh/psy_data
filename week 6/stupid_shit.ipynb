{
 "cells": [
  {
   "cell_type": "code",
   "execution_count": 1,
   "id": "698dce32",
   "metadata": {},
   "outputs": [],
   "source": [
    "import seaborn as sns\n",
    "penguins = sns.load_dataset(\"penguins\")"
   ]
  },
  {
   "cell_type": "code",
   "execution_count": null,
   "id": "90a84a0e",
   "metadata": {},
   "outputs": [],
   "source": [
    "import seaborn as sns\n",
    "import matplotlib.pyplot as plt\n",
    "\n",
    "def plot_penguins(data):\n",
    "    \"\"\"\n",
    "    Plot penguins data. Choose one of the following plots for the best visualization\n",
    "    \"\"\"\n",
    "    plot_type = input(\"Choose plot ('strip', 'violin', or 'box'): \")\n",
    "    \n",
    "    if plot_type == 'strip':\n",
    "        sns.stripplot(data=data)\n",
    "    elif plot_type == 'violin':\n",
    "        sns.violinplot(data=data)\n",
    "    elif plot_type == 'box':\n",
    "        sns.boxplot(data=data)\n",
    "    else:\n",
    "        print(\"Invalid plot type.\")\n",
    "        return\n",
    "\n",
    "    plt.show()"
   ]
  },
  {
   "cell_type": "markdown",
   "id": "2c7d68ca",
   "metadata": {},
   "source": [
    "help function"
   ]
  },
  {
   "cell_type": "code",
   "execution_count": null,
   "id": "aa0cd9e0",
   "metadata": {},
   "outputs": [],
   "source": [
    "# Get help on the function\n",
    "help(plot_penguins)"
   ]
  },
  {
   "cell_type": "markdown",
   "id": "06ecd8e8",
   "metadata": {},
   "source": [
    "run function"
   ]
  },
  {
   "cell_type": "code",
   "execution_count": null,
   "id": "5a2fc69c",
   "metadata": {},
   "outputs": [],
   "source": [
    "# Run the function\n",
    "plot_penguins(data=penguins)"
   ]
  }
 ],
 "metadata": {
  "kernelspec": {
   "display_name": "Python 3 (ipykernel)",
   "language": "python",
   "name": "python3"
  },
  "language_info": {
   "codemirror_mode": {
    "name": "ipython",
    "version": 3
   },
   "file_extension": ".py",
   "mimetype": "text/x-python",
   "name": "python",
   "nbconvert_exporter": "python",
   "pygments_lexer": "ipython3",
   "version": "3.11.5"
  }
 },
 "nbformat": 4,
 "nbformat_minor": 5
}

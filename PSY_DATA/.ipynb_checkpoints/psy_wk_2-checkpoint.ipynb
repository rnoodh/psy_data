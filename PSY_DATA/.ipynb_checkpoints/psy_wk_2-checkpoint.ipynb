{
 "cells": [
  {
   "cell_type": "markdown",
   "id": "1d346861",
   "metadata": {},
   "source": [
    "<jupyter notebook>\n",
    "   "
   ]
  },
  {
   "cell_type": "markdown",
   "id": "9e2f6143",
   "metadata": {},
   "source": [
    "# My first jupyter notebook"
   ]
  },
  {
   "cell_type": "markdown",
   "id": "16f965fa",
   "metadata": {},
   "source": [
    "## Psy data science week 2"
   ]
  },
  {
   "cell_type": "markdown",
   "id": "abf313aa",
   "metadata": {},
   "source": [
    "*the date is January 13, 2024*"
   ]
  },
  {
   "cell_type": "markdown",
   "id": "9ad8dea9",
   "metadata": {},
   "source": [
    "**Bold** words uses two asterisks on both sides"
   ]
  },
  {
   "cell_type": "markdown",
   "id": "77e5eb6c",
   "metadata": {},
   "source": [
    "* i usually write things i need to remember\n",
    "* using bullet points\n",
    "* * or sometimes do it like this\n",
    "* * * \n",
    "* hello again\n"
   ]
  },
  {
   "cell_type": "markdown",
   "id": "a85ad4e3",
   "metadata": {},
   "source": [
    "`trying new code is always a nice` *idea*\n",
    "\n",
    "**idea**"
   ]
  }
 ],
 "metadata": {
  "kernelspec": {
   "display_name": "Python 3 (ipykernel)",
   "language": "python",
   "name": "python3"
  },
  "language_info": {
   "codemirror_mode": {
    "name": "ipython",
    "version": 3
   },
   "file_extension": ".py",
   "mimetype": "text/x-python",
   "name": "python",
   "nbconvert_exporter": "python",
   "pygments_lexer": "ipython3",
   "version": "3.11.5"
  }
 },
 "nbformat": 4,
 "nbformat_minor": 5
}

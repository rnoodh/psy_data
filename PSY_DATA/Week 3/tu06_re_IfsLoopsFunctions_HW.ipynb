{
 "cells": [
  {
   "cell_type": "markdown",
   "id": "81d19d16",
   "metadata": {},
   "source": [
    "   # Ifs, loops, and function homework"
   ]
  },
  {
   "cell_type": "markdown",
   "id": "bd745db6",
   "metadata": {},
   "source": [
    "## 1. A function to reverse a string \n",
    "\n",
    "Write and test a function that reverses a string entered by a user. This function will have one input value (a string) and one output value (also a string).\n",
    "\n",
    "Test your function on, among other things, Napoleon's quote 'able was i ere i saw elba'"
   ]
  },
  {
   "cell_type": "code",
   "execution_count": 5,
   "id": "551a9bcb",
   "metadata": {},
   "outputs": [
    {
     "name": "stdout",
     "output_type": "stream",
     "text": [
      "Enter a string: able was i ere i saw elba\n",
      "Reversed string: able was i ere i saw elba\n"
     ]
    }
   ],
   "source": [
    "user_input = input(\"Enter a string: \")\n",
    "print(\"Reversed string:\", user_input[::-1])"
   ]
  },
  {
   "cell_type": "code",
   "execution_count": 6,
   "id": "e5c07c10",
   "metadata": {},
   "outputs": [
    {
     "name": "stdout",
     "output_type": "stream",
     "text": [
      "Enter a string: rand\n",
      "Reversed string: dnar\n"
     ]
    }
   ],
   "source": [
    "user_input = input(\"Enter a string: \")\n",
    "print(\"Reversed string:\", user_input[::-1])"
   ]
  },
  {
   "cell_type": "markdown",
   "id": "72bc6f2e",
   "metadata": {},
   "source": [
    "*Optional challenge*: run the above on \"race car\" and then fix the resulting string."
   ]
  },
  {
   "cell_type": "code",
   "execution_count": 22,
   "id": "7abd516b",
   "metadata": {},
   "outputs": [
    {
     "name": "stdout",
     "output_type": "stream",
     "text": [
      "Enter a string: race car\n",
      "Reversed string: rac ecar\n"
     ]
    }
   ],
   "source": [
    "user_input = input(\"Enter a string: \")\n",
    "print(\"Reversed string:\", user_input[::-1])"
   ]
  },
  {
   "cell_type": "markdown",
   "id": "f351711e",
   "metadata": {},
   "source": [
    "## 2. Determine if a number is prime\n",
    "\n",
    "Write some code to test whether a number is prime or not, a prime number being an integer that is evenly divisible only by 1 and itself. \n",
    "\n",
    "Hint: another way to think about a prime number is that, if the smallest number (other than 1) that divides evenly into a number *is* that number, than the number is a prime.\n",
    "\n",
    "The easiest solution involves one `while` loop and one `if` test."
   ]
  },
  {
   "cell_type": "code",
   "execution_count": 11,
   "id": "b4a7ffcc",
   "metadata": {},
   "outputs": [
    {
     "name": "stdout",
     "output_type": "stream",
     "text": [
      "Enter a number: 2\n",
      "2 is a prime number.\n"
     ]
    }
   ],
   "source": [
    "def is_prime(number):\n",
    "    return number > 1 and all(number % i for i in range(2, int(number**0.5) + 1)) \n",
    "\n",
    "user_input = int(input(\"Enter a number: \"))\n",
    "print(f\"{user_input} is {'a prime' if is_prime(user_input) else 'not a prime'} number.\")"
   ]
  },
  {
   "cell_type": "markdown",
   "id": "97515edc",
   "metadata": {},
   "source": [
    "## 3. Find the first 10 primes\n",
    "\n",
    "Extend your code above to find the first 10 prime numbers. This will involve wrapping your existing code in another \"outer\" loop.\n"
   ]
  },
  {
   "cell_type": "code",
   "execution_count": 34,
   "id": "f518030e",
   "metadata": {},
   "outputs": [
    {
     "name": "stdout",
     "output_type": "stream",
     "text": [
      "2 3 5 7 11 13 17 19 23 29 "
     ]
    }
   ],
   "source": [
    "def is_prime(number):\n",
    "    return number > 1 and all(number % i for i in range(2, int(number**0.5) + 1))\n",
    "\n",
    "count_primes, current_number = 0, 2\n",
    "\n",
    "while count_primes < 10:\n",
    "    if is_prime(current_number):\n",
    "        print(current_number, end=' ')\n",
    "        count_primes += 1\n",
    "    current_number += 1"
   ]
  },
  {
   "cell_type": "code",
   "execution_count": 1,
   "id": "b61c5d86",
   "metadata": {},
   "outputs": [
    {
     "name": "stdout",
     "output_type": "stream",
     "text": [
      "2 3 5 7 11 13 17 19 23 "
     ]
    }
   ],
   "source": [
    "def is_prime(number):\n",
    "    return number > 1 and all(number % i for i in range(2, int(number**0.5) + 1))\n",
    "\n",
    "count_primes, current_number = 1, 2\n",
    "\n",
    "while count_primes < 10:\n",
    "    if is_prime(current_number):\n",
    "        print(current_number, end=' ')\n",
    "        count_primes += 1\n",
    "    current_number += 1"
   ]
  },
  {
   "cell_type": "markdown",
   "id": "13c2c9d2",
   "metadata": {},
   "source": [
    "## 4. Make a function to compute the first n primes\n",
    "\n",
    "Functionalize (is that a word?) your above code. A user should be able to call your code with one integer argument and get a list back containing that number of primes. Make sure your function handles inputs of an incorrect type gracefully. You should also warn the user if they enter a really big number (which could take a long time...), and give them the option of either bailing or entering a different number."
   ]
  },
  {
   "cell_type": "code",
   "execution_count": 2,
   "id": "465ca64b",
   "metadata": {},
   "outputs": [
    {
     "name": "stdout",
     "output_type": "stream",
     "text": [
      "Enter the number of primes you want to generate: y\n",
      "Enter a valid integer.\n"
     ]
    }
   ],
   "source": [
    "def is_prime(number):\n",
    "    return number > 1 and all(number % i for i in range(2, int(number**0.5) + 1))\n",
    "\n",
    "def get_primes(n):\n",
    "    try:\n",
    "        n = int(n)\n",
    "        if n <= 0:\n",
    "            return \"Enter a positive integer.\"\n",
    "        \n",
    "        primes, current_number = [], 2\n",
    "        while len(primes) < n:\n",
    "            if is_prime(current_number):\n",
    "                primes.append(current_number)\n",
    "            current_number += 1\n",
    "\n",
    "        return primes\n",
    "\n",
    "    except ValueError:\n",
    "        return \"Enter a valid integer.\"\n",
    "\n",
    "user_input = input(\"Enter the number of primes you want to generate: \")\n",
    "result = get_primes(user_input)\n",
    "print(result)"
   ]
  },
  {
   "cell_type": "code",
   "execution_count": 3,
   "id": "a3ebda85",
   "metadata": {},
   "outputs": [
    {
     "name": "stdout",
     "output_type": "stream",
     "text": [
      "Enter the number of primes you want to generate: -2\n",
      "Enter a positive integer.\n"
     ]
    }
   ],
   "source": [
    "def is_prime(number):\n",
    "    return number > 1 and all(number % i for i in range(2, int(number**0.5) + 1))\n",
    "\n",
    "def get_primes(n):\n",
    "    try:\n",
    "        n = int(n)\n",
    "        if n <= 0:\n",
    "            return \"Enter a positive integer.\"\n",
    "        \n",
    "        primes, current_number = [], 2\n",
    "        while len(primes) < n:\n",
    "            if is_prime(current_number):\n",
    "                primes.append(current_number)\n",
    "            current_number += 1\n",
    "\n",
    "        return primes\n",
    "\n",
    "    except ValueError:\n",
    "        return \"Enter a valid integer.\"\n",
    "\n",
    "user_input = input(\"Enter the number of primes you want to generate: \")\n",
    "result = get_primes(user_input)\n",
    "print(result)"
   ]
  },
  {
   "cell_type": "code",
   "execution_count": 4,
   "id": "473eb240",
   "metadata": {},
   "outputs": [
    {
     "name": "stdout",
     "output_type": "stream",
     "text": [
      "Enter the number of primes you want to generate: 7\n",
      "[2, 3, 5, 7, 11, 13, 17]\n"
     ]
    }
   ],
   "source": [
    "def is_prime(number):\n",
    "    return number > 1 and all(number % i for i in range(2, int(number**0.5) + 1))\n",
    "\n",
    "def get_primes(n):\n",
    "    try:\n",
    "        n = int(n)\n",
    "        if n <= 0:\n",
    "            return \"Enter a positive integer.\"\n",
    "        \n",
    "        primes, current_number = [], 2\n",
    "        while len(primes) < n:\n",
    "            if is_prime(current_number):\n",
    "                primes.append(current_number)\n",
    "            current_number += 1\n",
    "\n",
    "        return primes\n",
    "\n",
    "    except ValueError:\n",
    "        return \"Enter a valid integer.\"\n",
    "\n",
    "user_input = input(\"Enter the number of primes you want to generate: \")\n",
    "result = get_primes(user_input)\n",
    "print(result)"
   ]
  }
 ],
 "metadata": {
  "kernelspec": {
   "display_name": "Python 3 (ipykernel)",
   "language": "python",
   "name": "python3"
  },
  "language_info": {
   "codemirror_mode": {
    "name": "ipython",
    "version": 3
   },
   "file_extension": ".py",
   "mimetype": "text/x-python",
   "name": "python",
   "nbconvert_exporter": "python",
   "pygments_lexer": "ipython3",
   "version": "3.11.5"
  }
 },
 "nbformat": 4,
 "nbformat_minor": 5
}
